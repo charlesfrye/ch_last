{
 "cells": [
  {
   "cell_type": "code",
   "execution_count": 1,
   "id": "553015cf-a35d-4922-a777-2e3b4274079f",
   "metadata": {},
   "outputs": [],
   "source": [
    "import torch, time\n",
    "import torch.nn as nn\n",
    "from torchvision.models import resnet50"
   ]
  },
  {
   "cell_type": "code",
   "execution_count": 2,
   "id": "a1e9ba48-f292-48f1-826f-cf4d8fae6319",
   "metadata": {},
   "outputs": [],
   "source": [
    "model = resnet50().cuda()\n",
    "\n",
    "x = torch.rand(16,3,224,224).cuda()\n",
    "y = torch.randint(0,1000, (16,)).cuda()"
   ]
  },
  {
   "cell_type": "code",
   "execution_count": 3,
   "id": "d35c2385-5480-4340-a3a9-99b2c12bef97",
   "metadata": {},
   "outputs": [],
   "source": [
    "class SubClassedTensor(torch.Tensor): pass"
   ]
  },
  {
   "cell_type": "code",
   "execution_count": 4,
   "id": "36c38fd6-7d27-455d-af96-7d4de8f4661b",
   "metadata": {},
   "outputs": [
    {
     "name": "stdout",
     "output_type": "stream",
     "text": [
      "9.77 ms ± 392 µs per loop (mean ± std. dev. of 7 runs, 1 loop each)\n"
     ]
    }
   ],
   "source": [
    "%timeit _= model(x)"
   ]
  },
  {
   "cell_type": "code",
   "execution_count": 5,
   "id": "89d036b4-d1ea-46ce-92a9-2f7f01e97941",
   "metadata": {},
   "outputs": [
    {
     "name": "stdout",
     "output_type": "stream",
     "text": [
      "15.7 ms ± 63.9 µs per loop (mean ± std. dev. of 7 runs, 100 loops each)\n"
     ]
    }
   ],
   "source": [
    "%timeit _ = model(x.as_subclass(SubClassedTensor))"
   ]
  },
  {
   "cell_type": "markdown",
   "id": "d08cad32-cd9b-4e48-b1d7-2dca09731714",
   "metadata": {},
   "source": [
    "And Backwards?"
   ]
  },
  {
   "cell_type": "code",
   "execution_count": 6,
   "id": "90e8a970-ac03-4315-9aaa-578ed6b6da8f",
   "metadata": {},
   "outputs": [],
   "source": [
    "loss_func = nn.CrossEntropyLoss()"
   ]
  },
  {
   "cell_type": "code",
   "execution_count": 7,
   "id": "fdddc7d6-4671-4ed2-8d77-367ed96384a1",
   "metadata": {},
   "outputs": [],
   "source": [
    "def fb_pass(x):\n",
    "    loss = loss_func(model(x), y)\n",
    "    loss.backward()"
   ]
  },
  {
   "cell_type": "code",
   "execution_count": 8,
   "id": "a4bad216-5db8-4011-a949-26a4cb5c2d10",
   "metadata": {},
   "outputs": [
    {
     "name": "stdout",
     "output_type": "stream",
     "text": [
      "47.9 ms ± 44.5 µs per loop (mean ± std. dev. of 7 runs, 10 loops each)\n"
     ]
    }
   ],
   "source": [
    "%timeit fb_pass(x)"
   ]
  },
  {
   "cell_type": "code",
   "execution_count": 9,
   "id": "a098c225-e962-472d-bccc-fdb9cf0fdd3e",
   "metadata": {},
   "outputs": [
    {
     "name": "stdout",
     "output_type": "stream",
     "text": [
      "58 ms ± 15.8 µs per loop (mean ± std. dev. of 7 runs, 10 loops each)\n"
     ]
    }
   ],
   "source": [
    "%timeit fb_pass(x.as_subclass(SubClassedTensor))"
   ]
  }
 ],
 "metadata": {
  "kernelspec": {
   "display_name": "Python 3 (ipykernel)",
   "language": "python",
   "name": "python3"
  },
  "language_info": {
   "codemirror_mode": {
    "name": "ipython",
    "version": 3
   },
   "file_extension": ".py",
   "mimetype": "text/x-python",
   "name": "python",
   "nbconvert_exporter": "python",
   "pygments_lexer": "ipython3",
   "version": "3.10.4"
  }
 },
 "nbformat": 4,
 "nbformat_minor": 5
}
